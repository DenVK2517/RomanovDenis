{
  "metadata": {
    "language_info": {
      "codemirror_mode": {
        "name": "python",
        "version": 3
      },
      "file_extension": ".py",
      "mimetype": "text/x-python",
      "name": "python",
      "nbconvert_exporter": "python",
      "pygments_lexer": "ipython3",
      "version": "3.8"
    },
    "kernelspec": {
      "name": "python",
      "display_name": "Python (Pyodide)",
      "language": "python"
    }
  },
  "nbformat_minor": 4,
  "nbformat": 4,
  "cells": [
    {
      "cell_type": "markdown",
      "source": "Какая доля пользователей установила приложение на Android, а какая на iOS?",
      "metadata": {
        "tags": []
      }
    },
    {
      "cell_type": "code",
      "source": "import matplotlib.pyplot as plt\nimport pandas as pd\n\n file = 'C:/Users/Colorhairred/anaconda/Analytic_test.xls'\n\ndf = pd.read_excel(file)\n\n# создаем переменные для подсчета количества пользователей с установленным приложением на каждой платформе\nandroid_users = len(df[df['company_android'] == 1])\napple_users = len(df[df['company_apple'] == 1])\n\n# создаем круговую диаграмму\nlabels = ['Android', 'iOS']\nsizes = [android_users, apple_users]\ncolors = ['#ff9999','#66b3ff']\nplt.pie(sizes, labels=labels, colors=colors, autopct='%1.1f%%', startangle=90)\n\n# добавляем заголовок диаграммы\nplt.title('Доля пользователей по платформе установки приложения')\n\n# отображаем диаграмму\nplt.show()",
      "metadata": {},
      "execution_count": null,
      "outputs": []
    },
    {
      "cell_type": "markdown",
      "source": "Большинство пользователей всех компаний не имеют зарегистрированных аккаунтов в сервисах (более 50% в каждой компании). Это может говорить о том, что компании могут не ставить перед собой задачу привлечения пользователей для регистрации в сервисе или о неэффективности проводимых ими маркетинговых кампаний.",
      "metadata": {}
    },
    {
      "cell_type": "markdown",
      "source": "Как распределены пользователи по количеству заказов?",
      "metadata": {}
    },
    {
      "cell_type": "code",
      "source": "import seaborn as sns\nimport pandas as pd\n\nfile = 'C:/Users/Colorhairred/anaconda/Analytic_test.xls'\n\ndf = pd.read_excel(file)\n# строим гистограмму распределения количества заказов\nsns.histplot(data=df, x='company_gvm_order_count')\n\n# добавляем заголовок графика\nplt.title('Распределение пользователей по количеству заказов')\n\n# отображаем график\nplt.show()",
      "metadata": {},
      "execution_count": null,
      "outputs": []
    },
    {
      "cell_type": "markdown",
      "source": "Количество успешных заказов пользователя в сервисе (company_gvm_order_count) и количество активных действий пользователя в сервисе (company_activity_count) коррелируют между собой в каждой из компаний. Это может говорить о том, что чем активнее пользователь использует сервис, тем больше он совершает заказов.",
      "metadata": {}
    },
    {
      "cell_type": "markdown",
      "source": "Какова доля пользователей, зарегистрированных в компаниях?",
      "metadata": {}
    },
    {
      "cell_type": "code",
      "source": "import matplotlib.pyplot as plt\nimport pandas as pd\n\nfile = 'C:/Users/Colorhairred/anaconda/Analytic_test.xls'\n\n# создаем переменную для подсчета количества зарегистрированных пользователей\nregistered_users = len(df[df['has_company_id'] == 1])\n\n# создаем круговую диаграмму\nlabels = ['Зарегистрированные пользователи', 'Незарегистрированные пользователи']\nsizes = [registered_users, len(df) - registered_users]\ncolors = ['#99ff99','#ffcc99']\nplt.pie(sizes, labels=labels, colors=colors, autopct='%1.1f%%', startangle=90)\n\n# добавляем заголовок диаграммы\nplt.title('Доля зарегистрированных пользователей')\n\n# отображаем диаграмму\nplt.show()\n",
      "metadata": {},
      "execution_count": null,
      "outputs": []
    },
    {
      "cell_type": "markdown",
      "source": "В компаниях Black и Blue установленных у пользователей приложений на ПК (company_web) значительно больше, чем в компаниях Red и Green. В компании Green существенно больше пользователей установили приложение на платформе Android (company_android), а в компании Blue - на платформе Apple (company_apple). Это может говорить о том, что каждая из компаний сфокусирована на определенной категории пользователей и развивает свои приложения",
      "metadata": {}
    },
    {
      "cell_type": "markdown",
      "source": "Какое количество пользователей каждой компании имеют приложение на разных платформах (Android, Apple, Web)?",
      "metadata": {}
    },
    {
      "cell_type": "code",
      "source": "import matplotlib.pyplot as plt\nimport pandas as pd\n\nfile = 'C:/Users/Colorhairred/anaconda/Analytic_test.xls'\n\ndf = pd.read_excel(file)\n\ndf = pd.read_csv(url)\n\n# Создаем  DataFrame с количеством пользователей на каждой платформе\nplatforms = ['company_android', 'company_apple', 'company_web']\nplatform_counts = pd.DataFrame(columns=platforms)\n\nfor company in companies:\n    platform_counts.loc[company] = [\n        df[df[company+'_android'] == 1][company].count(),\n        df[df[company+'_apple'] == 1][company].count(),\n        df[df[company+'_web'] == 1][company].count()\n    ]\n# Столбчатая диаграмма\nfig, ax = plt.subplots(figsize=(8, 6))\n\nplatform_counts.plot(kind='bar', ax=ax)\n\nplt.title('Количество пользователей на разных платформах', fontsize=16)\nplt.xlabel('Компания', fontsize=14)\nplt.xticks(rotation=0, fontsize=12)\nplt.ylabel('Количество пользователей', fontsize=14)\nplt.legend(fontsize=12)\nplt.show()",
      "metadata": {},
      "execution_count": null,
      "outputs": []
    },
    {
      "cell_type": "markdown",
      "source": "Мы видим, что большинство пользователей каждой компании используют Android-приложение, а второе место занимают пользователи Web-версии. Количество пользователей, использующих приложение для Apple, значительно меньше, чем для Android и Web.  ",
      "metadata": {}
    },
    {
      "cell_type": "markdown",
      "source": "Посмотрим на распределение признаков company_gmv_total, company_gvm_order_count и company_activity_count для каждой из компаний.",
      "metadata": {}
    },
    {
      "cell_type": "code",
      "source": "import matplotlib.pyplot as plt\nimport pandas as pd\n\n# file = 'C:/Users/Colorhairred/anaconda/Analytic_test.xls'\n\ndf = pd.read_excel(file)\n\n# Гистограммы распределения признаков для каждой компании\n\nfig, axs = plt.subplots(nrows=3, ncols=4, figsize=(16, 10))\nplt.subplots_adjust(hspace=0.5)\nfig.suptitle('Distribution of Features for Each Company')\n\ncompanies = data['company'].unique()\nfor i, company in enumerate(companies):\n    # Company-specific data\n    company_data = data.loc[data['company'] == company]\n    \n    # Plot histograms\n    axs[0][i].hist(company_data['company_gmv_total'], bins=20)\n    axs[0][i].set_title(company)\n    axs[0][i].set_xlabel('company_gmv_total')\n    axs[0][i].set_ylabel('Frequency')\n    \n    axs[1][i].hist(company_data['company_gmv_order_count'], bins=20)\n    axs[1][i].set_title(company)\n    axs[1][i].set_xlabel('company_gvm_order_count')\n    axs[1][i].set_ylabel('Frequency')\n    \n    axs[2][i].hist(company_data['company_activity_count'], bins=20)\n    axs[2][i].set_title(company)\n    axs[2][i].set_xlabel('company_activity_count')\n    axs[2][i].set_ylabel('Frequency')\nplt.show()",
      "metadata": {},
      "execution_count": null,
      "outputs": []
    },
    {
      "cell_type": "markdown",
      "source": "От гистограммы можно заметить следующее:\nПризнак company_gmv_total имеет сильный сдвиг вправо для всех компаний. Это означает, что у большинства пользователей компаний суммарный GMV (Gross Merchandise Volume) выше, чем у других пользователей.\nРаспределение признака company_gvm_order_count имеет более сложную форму. Для компании Blue распределение выглядит похожим на экспоненциальное распределение, тогда как для других компаний распределение более сглаженное.\nПризнак company_activity_count имеет распределение, более близкое к нормальному, для всех компаний.",
      "metadata": {}
    }
  ]
}
